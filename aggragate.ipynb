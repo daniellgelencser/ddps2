{
 "cells": [
  {
   "cell_type": "code",
   "execution_count": 2,
   "metadata": {
    "collapsed": true
   },
   "outputs": [],
   "source": [
    "import pandas as pd\n",
    "import matplotlib.pyplot as plt\n",
    "import glob\n",
    "import os"
   ]
  },
  {
   "cell_type": "code",
   "execution_count": 39,
   "outputs": [],
   "source": [
    "header = ['index', 'id', 'rate', 'generation_time', 'ingestion_time', 'commit_time']\n",
    "# load the results from the 10 runs\n",
    "for i in range(1, 11):\n",
    "    files = glob.glob(f'experiment_1/results/{str(i)}/*.csv')\n",
    "    df = pd.concat([pd.read_csv(f, names=header) for f in files])\n",
    "    # normalize the timestamps by subtracting the minimum ingestion time\n",
    "    start_time = df['generation_time'].min()\n",
    "    df['generation_time'] -= start_time\n",
    "    df['ingestion_time'] -= start_time\n",
    "    df['commit_time'] -= start_time\n",
    "    os.makedirs(f'./aggregated/experiment_1/{str(i)}', exist_ok=True)\n",
    "    df.to_csv(f'./aggregated/experiment_1/{str(i)}/all.csv')"
   ],
   "metadata": {
    "collapsed": false,
    "pycharm": {
     "name": "#%%\n"
    }
   }
  },
  {
   "cell_type": "code",
   "execution_count": 40,
   "outputs": [],
   "source": [
    "for i in range(1, 11):\n",
    "    df = pd.read_csv(f'./aggregated/experiment_1/{str(i)}/all.csv')\n",
    "\n",
    "    # group the data by id\n",
    "    df = df.groupby('id').agg({'rate': 'min', 'generation_time': 'min', 'ingestion_time': 'mean', 'commit_time': 'max'})\n",
    "\n",
    "    # add a column for the event time latency\n",
    "    df['event_time_latency'] = df['commit_time'] - df['generation_time']\n",
    "\n",
    "    # add a column for the processing time latency\n",
    "    df['processing_time_latency'] = df['commit_time'] - df['ingestion_time']\n",
    "\n",
    "    df.to_csv(f'./aggregated/experiment_1/{str(i)}/all.csv')"
   ],
   "metadata": {
    "collapsed": false,
    "pycharm": {
     "name": "#%%\n"
    }
   }
  },
  {
   "cell_type": "code",
   "execution_count": 44,
   "outputs": [],
   "source": [
    "# load the results from the 10 runs into a single dataframe\n",
    "df = pd.concat([pd.read_csv(f'./aggregated/experiment_1/{str(i)}/all.csv') for i in range(1, 11)])\n",
    "\n",
    "df.to_csv('./experiment_1.csv')"
   ],
   "metadata": {
    "collapsed": false,
    "pycharm": {
     "name": "#%%\n"
    }
   }
  },
  {
   "cell_type": "code",
   "execution_count": 47,
   "outputs": [
    {
     "data": {
      "text/plain": "<Figure size 432x288 with 1 Axes>",
      "image/png": "[encoded data removed]"
     },
     "metadata": {
      "needs_background": "light"
     },
     "output_type": "display_data"
    }
   ],
   "source": [
    "# remove rate lower that 10\n",
    "df = df[(df['rate'] > 10)]\n",
    "# group by rate and compute the average event time latency\n",
    "df_grouped = df.groupby('rate')\n",
    "# plot the event time latency against the rate\n",
    "plt.plot(df_grouped['event_time_latency'].mean(), label='event time latency')\n",
    "# plt.plot(df['rate'], df['event_time_latency'].rolling(10, min_periods=1).mean(), label='event time latency')\n",
    "plt.xlabel('rate')\n",
    "plt.ylabel('event time latency')\n",
    "plt.show()"
   ],
   "metadata": {
    "collapsed": false,
    "pycharm": {
     "name": "#%%\n"
    }
   }
  },
  {
   "cell_type": "code",
   "execution_count": 45,
   "outputs": [],
   "source": [
    "header = ['index', 'id', 'rate', 'state', 'generation_time', 'ingestion_time', 'commit_time']\n",
    "# load the results from the 10 runs\n",
    "for i in range(1, 11):\n",
    "    files = glob.glob(f'experiment_2/results/{str(i)}/*.csv')\n",
    "    df = pd.concat([pd.read_csv(f, names=header) for f in files])\n",
    "\n",
    "    # normalize the timestamps by subtracting the minimum ingestion time\n",
    "    start_time = df['generation_time'].min()\n",
    "    df['generation_time'] -= start_time\n",
    "    df['ingestion_time'] -= start_time\n",
    "    df['commit_time'] -= start_time\n",
    "    os.makedirs(f'./aggregated/experiment_2/{str(i)}', exist_ok=True)\n",
    "    df.to_csv(f'./aggregated/experiment_2/{str(i)}/all.csv')\n"
   ],
   "metadata": {
    "collapsed": false,
    "pycharm": {
     "name": "#%%\n"
    }
   }
  },
  {
   "cell_type": "code",
   "execution_count": 46,
   "outputs": [],
   "source": [
    "for i in range(1, 11):\n",
    "    df = pd.read_csv(f'./aggregated/experiment_2/{str(i)}/all.csv')\n",
    "\n",
    "    leader = df[df['state'] == 'leader']\n",
    "    follower = df[df['state'] == 'follower']\n",
    "\n",
    "    # group the data by id\n",
    "    leader = leader.groupby('id').agg({'rate': 'min', 'generation_time': 'min', 'ingestion_time': 'mean', 'commit_time': 'max'})\n",
    "    follower = follower.groupby('id').agg({'rate': 'min', 'generation_time': 'min', 'ingestion_time': 'mean', 'commit_time': 'max'})\n",
    "\n",
    "\n",
    "    # add a column for the event time latency\n",
    "    leader['event_time_latency'] = leader['commit_time'] - leader['generation_time']\n",
    "    follower['event_time_latency'] = follower['commit_time'] - follower['generation_time']\n",
    "\n",
    "    # add a column for the processing time latency\n",
    "    leader['processing_time_latency'] = leader['commit_time'] - leader['ingestion_time']\n",
    "    follower['processing_time_latency'] = follower['commit_time'] - follower['ingestion_time']\n",
    "\n",
    "    leader['state'] = 'leader'\n",
    "    follower['state'] = 'follower'\n",
    "\n",
    "    df = pd.concat([leader, follower])\n",
    "\n",
    "    df.to_csv(f'./aggregated/experiment_2/{str(i)}/all.csv')\n"
   ],
   "metadata": {
    "collapsed": false,
    "pycharm": {
     "name": "#%%\n"
    }
   }
  },
  {
   "cell_type": "code",
   "execution_count": 47,
   "outputs": [],
   "source": [
    "# load the results from the 10 runs into a single dataframe\n",
    "df = pd.concat([pd.read_csv(f'./aggregated/experiment_2/{str(i)}/all.csv') for i in range(1, 11)])\n",
    "\n",
    "df.to_csv('./experiment_2.csv')"
   ],
   "metadata": {
    "collapsed": false,
    "pycharm": {
     "name": "#%%\n"
    }
   }
  },
  {
   "cell_type": "code",
   "execution_count": 50,
   "outputs": [
    {
     "name": "stderr",
     "output_type": "stream",
     "text": [
      "/usr/local/anaconda3/lib/python3.8/site-packages/numpy/lib/arraysetops.py:583: FutureWarning: elementwise comparison failed; returning scalar instead, but in the future will perform elementwise comparison\n",
      "  mask |= (ar1 == a)\n"
     ]
    }
   ],
   "source": [
    "df = pd.read_csv('./experiment_2.csv', index_col=0)"
   ],
   "metadata": {
    "collapsed": false,
    "pycharm": {
     "name": "#%%\n"
    }
   }
  },
  {
   "cell_type": "code",
   "execution_count": 61,
   "outputs": [
    {
     "name": "stderr",
     "output_type": "stream",
     "text": [
      "/usr/local/anaconda3/lib/python3.8/site-packages/seaborn/distributions.py:2557: FutureWarning: `distplot` is a deprecated function and will be removed in a future version. Please adapt your code to use either `displot` (a figure-level function with similar flexibility) or `histplot` (an axes-level function for histograms).\n",
      "  warnings.warn(msg, FutureWarning)\n",
      "/usr/local/anaconda3/lib/python3.8/site-packages/seaborn/distributions.py:2557: FutureWarning: `distplot` is a deprecated function and will be removed in a future version. Please adapt your code to use either `displot` (a figure-level function with similar flexibility) or `histplot` (an axes-level function for histograms).\n",
      "  warnings.warn(msg, FutureWarning)\n"
     ]
    },
    {
     "data": {
      "text/plain": "<Figure size 432x288 with 1 Axes>",
      "image/png": "[encoded data removed]"
     },
     "metadata": {
      "needs_background": "light"
     },
     "output_type": "display_data"
    }
   ],
   "source": [
    "import seaborn as sns\n",
    "import numpy as np\n",
    "\n",
    "# create 100 bins between the minimum processing time latency and the maximum processing time latency\n",
    "bins = np.linspace(df['processing_time_latency'].min(), df['processing_time_latency'].max(), 1000)\n",
    "\n",
    "# make a distribution plot of the processing time latency\n",
    "leader = df[df['state'] == 'leader']\n",
    "follower = df[df['state'] == 'follower']\n",
    "sns.distplot(leader['processing_time_latency'], label='leader', bins=bins)\n",
    "sns.distplot(follower['processing_time_latency'], label='follower', bins=bins)\n",
    "plt.legend()\n",
    "plt.xlabel('processing time latency')\n",
    "plt.ylabel('frequency')\n",
    "plt.show()\n",
    "\n"
   ],
   "metadata": {
    "collapsed": false,
    "pycharm": {
     "name": "#%%\n"
    }
   }
  },
  {
   "cell_type": "code",
   "execution_count": 62,
   "outputs": [
    {
     "data": {
      "text/plain": "           id  rate  generation_time  ingestion_time  commit_time  \\\n0           0  1000         0.000000        0.006463     0.639120   \n1           1  1000         0.009262        0.010903     0.639149   \n2           2  1000         0.013145        0.014636     0.639160   \n3           3  1000         0.016854        0.018267     0.639170   \n4           4  1000         0.020479        0.021993     0.639179   \n...       ...   ...              ...             ...          ...   \n199971  99972  1000       364.516428      364.518047   365.569681   \n199972  99973  1000       364.519958      364.521617   365.569689   \n199973  99974  1000       364.523498      364.525139   365.569697   \n199974  99975  1000       364.527087      364.528684   365.569705   \n199975  99976  1000       364.530630      364.532151   365.569713   \n\n        event_time_latency  processing_time_latency     state  \n0                 0.639120                 0.632657    leader  \n1                 0.629887                 0.628246    leader  \n2                 0.626015                 0.624525    leader  \n3                 0.622316                 0.620902    leader  \n4                 0.618700                 0.617186    leader  \n...                    ...                      ...       ...  \n199971            1.053253                 1.051634  follower  \n199972            1.049732                 1.048073  follower  \n199973            1.046199                 1.044559  follower  \n199974            1.042618                 1.041021  follower  \n199975            1.039083                 1.037561  follower  \n\n[1999284 rows x 8 columns]",
      "text/html": "<div>\n<style scoped>\n    .dataframe tbody tr th:only-of-type {\n        vertical-align: middle;\n    }\n\n    .dataframe tbody tr th {\n        vertical-align: top;\n    }\n\n    .dataframe thead th {\n        text-align: right;\n    }\n</style>\n<table border=\"1\" class=\"dataframe\">\n  <thead>\n    <tr style=\"text-align: right;\">\n      <th></th>\n      <th>id</th>\n      <th>rate</th>\n      <th>generation_time</th>\n      <th>ingestion_time</th>\n      <th>commit_time</th>\n      <th>event_time_latency</th>\n      <th>processing_time_latency</th>\n      <th>state</th>\n    </tr>\n  </thead>\n  <tbody>\n    <tr>\n      <th>0</th>\n      <td>0</td>\n      <td>1000</td>\n      <td>0.000000</td>\n      <td>0.006463</td>\n      <td>0.639120</td>\n      <td>0.639120</td>\n      <td>0.632657</td>\n      <td>leader</td>\n    </tr>\n    <tr>\n      <th>1</th>\n      <td>1</td>\n      <td>1000</td>\n      <td>0.009262</td>\n      <td>0.010903</td>\n      <td>0.639149</td>\n      <td>0.629887</td>\n      <td>0.628246</td>\n      <td>leader</td>\n    </tr>\n    <tr>\n      <th>2</th>\n      <td>2</td>\n      <td>1000</td>\n      <td>0.013145</td>\n      <td>0.014636</td>\n      <td>0.639160</td>\n      <td>0.626015</td>\n      <td>0.624525</td>\n      <td>leader</td>\n    </tr>\n    <tr>\n      <th>3</th>\n      <td>3</td>\n      <td>1000</td>\n      <td>0.016854</td>\n      <td>0.018267</td>\n      <td>0.639170</td>\n      <td>0.622316</td>\n      <td>0.620902</td>\n      <td>leader</td>\n    </tr>\n    <tr>\n      <th>4</th>\n      <td>4</td>\n      <td>1000</td>\n      <td>0.020479</td>\n      <td>0.021993</td>\n      <td>0.639179</td>\n      <td>0.618700</td>\n      <td>0.617186</td>\n      <td>leader</td>\n    </tr>\n    <tr>\n      <th>...</th>\n      <td>...</td>\n      <td>...</td>\n      <td>...</td>\n      <td>...</td>\n      <td>...</td>\n      <td>...</td>\n      <td>...</td>\n      <td>...</td>\n    </tr>\n    <tr>\n      <th>199971</th>\n      <td>99972</td>\n      <td>1000</td>\n      <td>364.516428</td>\n      <td>364.518047</td>\n      <td>365.569681</td>\n      <td>1.053253</td>\n      <td>1.051634</td>\n      <td>follower</td>\n    </tr>\n    <tr>\n      <th>199972</th>\n      <td>99973</td>\n      <td>1000</td>\n      <td>364.519958</td>\n      <td>364.521617</td>\n      <td>365.569689</td>\n      <td>1.049732</td>\n      <td>1.048073</td>\n      <td>follower</td>\n    </tr>\n    <tr>\n      <th>199973</th>\n      <td>99974</td>\n      <td>1000</td>\n      <td>364.523498</td>\n      <td>364.525139</td>\n      <td>365.569697</td>\n      <td>1.046199</td>\n      <td>1.044559</td>\n      <td>follower</td>\n    </tr>\n    <tr>\n      <th>199974</th>\n      <td>99975</td>\n      <td>1000</td>\n      <td>364.527087</td>\n      <td>364.528684</td>\n      <td>365.569705</td>\n      <td>1.042618</td>\n      <td>1.041021</td>\n      <td>follower</td>\n    </tr>\n    <tr>\n      <th>199975</th>\n      <td>99976</td>\n      <td>1000</td>\n      <td>364.530630</td>\n      <td>364.532151</td>\n      <td>365.569713</td>\n      <td>1.039083</td>\n      <td>1.037561</td>\n      <td>follower</td>\n    </tr>\n  </tbody>\n</table>\n<p>1999284 rows × 8 columns</p>\n</div>"
     },
     "execution_count": 62,
     "metadata": {},
     "output_type": "execute_result"
    }
   ],
   "source": [
    "df"
   ],
   "metadata": {
    "collapsed": false,
    "pycharm": {
     "name": "#%%\n"
    }
   }
  },
  {
   "cell_type": "code",
   "execution_count": null,
   "outputs": [],
   "source": [],
   "metadata": {
    "collapsed": false,
    "pycharm": {
     "name": "#%%\n"
    }
   }
  }
 ],
 "metadata": {
  "kernelspec": {
   "display_name": "Python 3",
   "language": "python",
   "name": "python3"
  },
  "language_info": {
   "codemirror_mode": {
    "name": "ipython",
    "version": 2
   },
   "file_extension": ".py",
   "mimetype": "text/x-python",
   "name": "python",
   "nbconvert_exporter": "python",
   "pygments_lexer": "ipython2",
   "version": "2.7.6"
  }
 },
 "nbformat": 4,
 "nbformat_minor": 0
}