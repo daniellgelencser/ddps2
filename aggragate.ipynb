{
 "cells": [
  {
   "cell_type": "code",
   "execution_count": 3,
   "metadata": {
    "collapsed": true
   },
   "outputs": [],
   "source": [
    "import pandas as pd\n",
    "import matplotlib.pyplot as plt\n",
    "import glob\n",
    "import os"
   ]
  },
  {
   "cell_type": "code",
   "execution_count": 39,
   "outputs": [],
   "source": [
    "header = ['index', 'id', 'rate', 'generation_time', 'ingestion_time', 'commit_time']\n",
    "# load the results from the 10 runs\n",
    "for i in range(1, 11):\n",
    "    files = glob.glob(f'results/{str(i)}/*.csv')\n",
    "    df = pd.concat([pd.read_csv(f, names=header) for f in files])\n",
    "    # normalize the timestamps by subtracting the minimum ingestion time\n",
    "    start_time = df['generation_time'].min()\n",
    "    df['generation_time'] -= start_time\n",
    "    df['ingestion_time'] -= start_time\n",
    "    df['commit_time'] -= start_time\n",
    "    os.makedirs(f'./aggregated/{str(i)}', exist_ok=True)\n",
    "    df.to_csv(f'./aggregated/{str(i)}/all.csv')"
   ],
   "metadata": {
    "collapsed": false,
    "pycharm": {
     "name": "#%%\n"
    }
   }
  },
  {
   "cell_type": "code",
   "execution_count": 40,
   "outputs": [],
   "source": [
    "for i in range(1, 11):\n",
    "    df = pd.read_csv(f'./aggregated/{str(i)}/all.csv')\n",
    "\n",
    "    # group the data by id\n",
    "    df = df.groupby('id').agg({'rate': 'min', 'generation_time': 'min', 'ingestion_time': 'mean', 'commit_time': 'max'})\n",
    "\n",
    "    # add a column for the event time latency\n",
    "    df['event_time_latency'] = df['commit_time'] - df['generation_time']\n",
    "\n",
    "    # add a column for the processing time latency\n",
    "    df['processing_time_latency'] = df['commit_time'] - df['ingestion_time']\n",
    "\n",
    "    df.to_csv(f'./aggregated/{str(i)}/all.csv')"
   ],
   "metadata": {
    "collapsed": false,
    "pycharm": {
     "name": "#%%\n"
    }
   }
  },
  {
   "cell_type": "code",
   "execution_count": 44,
   "outputs": [],
   "source": [
    "# load the results from the 10 runs into a single dataframe\n",
    "df = pd.concat([pd.read_csv(f'./aggregated/{str(i)}/all.csv') for i in range(1, 11)])\n",
    "\n",
    "df.to_csv('./experiment_1.csv')"
   ],
   "metadata": {
    "collapsed": false,
    "pycharm": {
     "name": "#%%\n"
    }
   }
  },
  {
   "cell_type": "code",
   "execution_count": 47,
   "outputs": [
    {
     "data": {
      "text/plain": "<Figure size 432x288 with 1 Axes>",
      "image/png": "[encoded data removed]"
     },
     "metadata": {
      "needs_background": "light"
     },
     "output_type": "display_data"
    }
   ],
   "source": [
    "# remove rate lower that 10\n",
    "df = df[(df['rate'] > 10)]\n",
    "# group by rate and compute the average event time latency\n",
    "df_grouped = df.groupby('rate')\n",
    "# plot the event time latency against the rate\n",
    "plt.plot(df_grouped['event_time_latency'].mean(), label='event time latency')\n",
    "# plt.plot(df['rate'], df['event_time_latency'].rolling(10, min_periods=1).mean(), label='event time latency')\n",
    "plt.xlabel('rate')\n",
    "plt.ylabel('event time latency')\n",
    "plt.show()"
   ],
   "metadata": {
    "collapsed": false,
    "pycharm": {
     "name": "#%%\n"
    }
   }
  },
  {
   "cell_type": "code",
   "execution_count": null,
   "outputs": [],
   "source": [],
   "metadata": {
    "collapsed": false,
    "pycharm": {
     "name": "#%%\n"
    }
   }
  }
 ],
 "metadata": {
  "kernelspec": {
   "display_name": "Python 3",
   "language": "python",
   "name": "python3"
  },
  "language_info": {
   "codemirror_mode": {
    "name": "ipython",
    "version": 2
   },
   "file_extension": ".py",
   "mimetype": "text/x-python",
   "name": "python",
   "nbconvert_exporter": "python",
   "pygments_lexer": "ipython2",
   "version": "2.7.6"
  }
 },
 "nbformat": 4,
 "nbformat_minor": 0
}