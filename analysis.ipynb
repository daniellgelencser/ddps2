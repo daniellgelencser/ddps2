{
 "cells": [
  {
   "cell_type": "code",
   "execution_count": 158,
   "metadata": {
    "collapsed": true
   },
   "outputs": [],
   "source": [
    "import pandas as pd\n",
    "import matplotlib.pyplot as plt\n",
    "import glob\n",
    "import os\n",
    "import numpy as np"
   ]
  },
  {
   "cell_type": "code",
   "execution_count": 159,
   "outputs": [],
   "source": [
    "os.makedirs('aggregated/experiment_1/', exist_ok=True)\n",
    "\n",
    "header = ['index', 'id', 'rate', 'state', 'generation_time', 'ingestion_time', 'commit_time']\n",
    "# load the results from the 10 runs\n",
    "for i in range(1, 11):\n",
    "    files = glob.glob(f'try_3/experiment_1/results/{str(i)}/*.csv')\n",
    "    df = pd.concat([pd.read_csv(f, names=header) for f in files])\n",
    "    # normalize the timestamps by subtracting the minimum ingestion time\n",
    "    start_time = df['generation_time'].min()\n",
    "    df['generation_time'] -= start_time\n",
    "    df['ingestion_time'] -= start_time\n",
    "    df['commit_time'] -= start_time\n",
    "    os.makedirs(f'./aggregated/experiment_1/{str(i)}', exist_ok=True)\n",
    "    df.to_csv(f'./aggregated/experiment_1/{str(i)}/all.csv')"
   ],
   "metadata": {
    "collapsed": false,
    "pycharm": {
     "name": "#%%\n"
    }
   }
  },
  {
   "cell_type": "code",
   "execution_count": 160,
   "outputs": [],
   "source": [
    "for i in range(1, 11):\n",
    "    df = pd.read_csv(f'./aggregated/experiment_1/{str(i)}/all.csv')\n",
    "\n",
    "    leader = df[df['state'] == 'leader']\n",
    "    follower = df[df['state'] == 'follower']\n",
    "\n",
    "    # group the data by id\n",
    "    leader = leader.groupby('id').agg({'rate': 'min', 'generation_time': 'min', 'ingestion_time': 'mean', 'commit_time': 'max'})\n",
    "    follower = follower.groupby('id').agg({'rate': 'min', 'generation_time': 'min', 'ingestion_time': 'mean', 'commit_time': 'max'})\n",
    "\n",
    "    # add a column for the processing time latency\n",
    "    leader['processing_time_latency'] = leader['commit_time'] - leader['ingestion_time']\n",
    "    follower['processing_time_latency'] = follower['commit_time'] - follower['ingestion_time']\n",
    "\n",
    "    leader['state'] = 'leader'\n",
    "    follower['state'] = 'follower'\n",
    "\n",
    "    df = pd.concat([leader, follower])\n",
    "\n",
    "    df.to_csv(f'./aggregated/experiment_1/{str(i)}/all.csv')"
   ],
   "metadata": {
    "collapsed": false,
    "pycharm": {
     "name": "#%%\n"
    }
   }
  },
  {
   "cell_type": "code",
   "execution_count": 161,
   "outputs": [],
   "source": [
    "# load the results from the 10 runs into a single dataframe\n",
    "df = pd.concat([pd.read_csv(f'./aggregated/experiment_1/{str(i)}/all.csv') for i in range(1, 11)])\n",
    "\n",
    "df.to_csv('./experiment_1.csv')"
   ],
   "metadata": {
    "collapsed": false,
    "pycharm": {
     "name": "#%%\n"
    }
   }
  },
  {
   "cell_type": "code",
   "execution_count": 162,
   "outputs": [],
   "source": [
    "# set the plots width to be wider than the default\n",
    "# plt.figure(figsize=(4, 8))\n",
    "\n",
    "n = 1000\n",
    "\n",
    "\n",
    "leader = df[df['state'] == 'leader']\n",
    "\n",
    "# group the data by rate\n",
    "leader = leader.groupby('rate').agg({'processing_time_latency': 'mean'})\n",
    "# plot a moving average window of 1000\n",
    "leader_mean = leader['processing_time_latency'].rolling(n).mean()\n",
    "leader_std = leader['processing_time_latency'].rolling(n).std()\n",
    "# plot the error bars\n",
    "plt.errorbar(leader.index[n-1::n], leader_mean[n-1::n], yerr=leader_std[n-1::n], label='Leader')\n",
    "\n",
    "\n",
    "follower = df[df['state'] == 'follower']\n",
    "\n",
    "# group the data by rate\n",
    "follower = follower.groupby('rate').agg({'processing_time_latency': 'mean'})\n",
    "# plot a moving average window of 1000\n",
    "follower_mean = follower['processing_time_latency'].rolling(n).mean()\n",
    "follower_std = follower['processing_time_latency'].rolling(n).std()\n",
    "# plot the error bars\n",
    "plt.errorbar(follower_mean.index[n-1::n], follower_mean[n-1::n], yerr=follower_std[n-1::n], label='follower')\n",
    "\n",
    "plt.xlabel('rate')\n",
    "plt.ylabel('processing time latency')\n",
    "\n",
    "# set y-axis ticks between 0 and 1\n",
    "plt.yticks(np.arange(0.0, 0.2, 0.05))\n",
    "\n",
    "plt.title('Processing Time Latency on the Leader and Followers')\n",
    "plt.legend()\n",
    "plt.savefig('./images/experiment_1.pdf')\n",
    "# plt.show()\n",
    "plt.close()"
   ],
   "metadata": {
    "collapsed": false,
    "pycharm": {
     "name": "#%%\n"
    }
   }
  },
  {
   "cell_type": "code",
   "execution_count": 163,
   "outputs": [
    {
     "name": "stdout",
     "output_type": "stream",
     "text": [
      "0.038\n",
      "0.091\n"
     ]
    }
   ],
   "source": [
    "# print the average processing time latency of the leader\n",
    "print(f\"{leader['processing_time_latency'].mean():.3f}\")\n",
    "\n",
    "# print the average processing time latency of the follower\n",
    "print(f\"{follower['processing_time_latency'].mean():.3f}\")"
   ],
   "metadata": {
    "collapsed": false,
    "pycharm": {
     "name": "#%%\n"
    }
   }
  },
  {
   "cell_type": "code",
   "execution_count": 164,
   "outputs": [],
   "source": [
    "os.makedirs('aggregated/experiment_2/', exist_ok=True)\n",
    "header = ['index', 'id', 'rate', 'state', 'generation_time', 'ingestion_time', 'commit_time']\n",
    "# load the results from the 10 runs\n",
    "for i in range(1, 11):\n",
    "    files = glob.glob(f'try_3/experiment_2/results/{str(i)}/*.csv')\n",
    "    df = pd.concat([pd.read_csv(f, names=header) for f in files])\n",
    "\n",
    "    # normalize the timestamps by subtracting the minimum ingestion time\n",
    "    start_time = df['generation_time'].min()\n",
    "    df['generation_time'] -= start_time\n",
    "    df['ingestion_time'] -= start_time\n",
    "    df['commit_time'] -= start_time\n",
    "    os.makedirs(f'./aggregated/experiment_2/{str(i)}', exist_ok=True)\n",
    "    df.to_csv(f'./aggregated/experiment_2/{str(i)}/all.csv')"
   ],
   "metadata": {
    "collapsed": false,
    "pycharm": {
     "name": "#%%\n"
    }
   }
  },
  {
   "cell_type": "code",
   "execution_count": 165,
   "outputs": [],
   "source": [
    "for i in range(1, 11):\n",
    "    df = pd.read_csv(f'./aggregated/experiment_2/{str(i)}/all.csv')\n",
    "\n",
    "    leader = df[df['state'] == 'leader']\n",
    "    follower = df[df['state'] == 'follower']\n",
    "\n",
    "    # group the data by id\n",
    "    leader = leader.groupby('id').agg({'rate': 'min', 'generation_time': 'min', 'ingestion_time': 'mean', 'commit_time': 'max'})\n",
    "    follower = follower.groupby('id').agg({'rate': 'min', 'generation_time': 'min', 'ingestion_time': 'mean', 'commit_time': 'max'})\n",
    "\n",
    "    # add a column for the processing time latency\n",
    "    leader['processing_time_latency'] = leader['commit_time'] - leader['ingestion_time']\n",
    "    follower['processing_time_latency'] = follower['commit_time'] - follower['ingestion_time']\n",
    "\n",
    "    leader['state'] = 'leader'\n",
    "    follower['state'] = 'follower'\n",
    "\n",
    "    df = pd.concat([leader, follower])\n",
    "\n",
    "    df.to_csv(f'./aggregated/experiment_2/{str(i)}/all.csv')\n"
   ],
   "metadata": {
    "collapsed": false,
    "pycharm": {
     "name": "#%%\n"
    }
   }
  },
  {
   "cell_type": "code",
   "execution_count": 166,
   "outputs": [],
   "source": [
    "# load the results from the 10 runs into a single dataframe\n",
    "df = pd.concat([pd.read_csv(f'./aggregated/experiment_2/{str(i)}/all.csv') for i in range(1, 11)])\n",
    "\n",
    "df.to_csv('./experiment_2.csv')"
   ],
   "metadata": {
    "collapsed": false,
    "pycharm": {
     "name": "#%%\n"
    }
   }
  },
  {
   "cell_type": "code",
   "execution_count": 167,
   "outputs": [],
   "source": [
    "df = pd.read_csv('./experiment_2.csv', index_col=0)"
   ],
   "metadata": {
    "collapsed": false,
    "pycharm": {
     "name": "#%%\n"
    }
   }
  },
  {
   "cell_type": "code",
   "execution_count": 168,
   "outputs": [
    {
     "name": "stderr",
     "output_type": "stream",
     "text": [
      "/usr/local/anaconda3/lib/python3.8/site-packages/seaborn/distributions.py:2557: FutureWarning: `distplot` is a deprecated function and will be removed in a future version. Please adapt your code to use either `displot` (a figure-level function with similar flexibility) or `histplot` (an axes-level function for histograms).\n",
      "  warnings.warn(msg, FutureWarning)\n",
      "/usr/local/anaconda3/lib/python3.8/site-packages/seaborn/distributions.py:2557: FutureWarning: `distplot` is a deprecated function and will be removed in a future version. Please adapt your code to use either `displot` (a figure-level function with similar flexibility) or `histplot` (an axes-level function for histograms).\n",
      "  warnings.warn(msg, FutureWarning)\n"
     ]
    },
    {
     "data": {
      "text/plain": "<Figure size 432x288 with 1 Axes>",
      "image/png": "[encoded data removed]"
     },
     "metadata": {
      "needs_background": "light"
     },
     "output_type": "display_data"
    }
   ],
   "source": [
    "import seaborn as sns\n",
    "import numpy as np\n",
    "\n",
    "# create 100 bins between the minimum processing time latency and the maximum processing time latency\n",
    "bins = np.linspace(df['processing_time_latency'].min(), df['processing_time_latency'].max(), 1000)\n",
    "\n",
    "# make a distribution plot of the processing time latency\n",
    "leader = df[df['state'] == 'leader']\n",
    "follower = df[df['state'] == 'follower']\n",
    "sns.distplot(leader['processing_time_latency'], label='leader', bins=bins)\n",
    "sns.distplot(follower['processing_time_latency'], label='follower', bins=bins)\n",
    "plt.legend()\n",
    "plt.xlabel('processing time latency')\n",
    "plt.ylabel('Density')\n",
    "plt.title('50 ms interval')\n",
    "plt.xticks(np.arange(0, 0.22, 0.02))\n",
    "plt.savefig('./images/experiment_2.pdf')\n",
    "# plt.show()"
   ],
   "metadata": {
    "collapsed": false,
    "pycharm": {
     "name": "#%%\n"
    }
   }
  },
  {
   "cell_type": "code",
   "execution_count": 169,
   "outputs": [],
   "source": [
    "os.makedirs('aggregated/experiment_3/', exist_ok=True)\n",
    "header = ['index', 'id', 'rate', 'state', 'generation_time', 'ingestion_time', 'commit_time']\n",
    "# load the results from the 10 runs\n",
    "for i in range(1, 11):\n",
    "    files = glob.glob(f'try_3/experiment_3/results/{str(i)}/*.csv')\n",
    "    df = pd.concat([pd.read_csv(f, names=header) for f in files])\n",
    "\n",
    "    # normalize the timestamps by subtracting the minimum ingestion time\n",
    "    start_time = df['generation_time'].min()\n",
    "    df['generation_time'] -= start_time\n",
    "    df['ingestion_time'] -= start_time\n",
    "    df['commit_time'] -= start_time\n",
    "    os.makedirs(f'./aggregated/experiment_3/{str(i)}', exist_ok=True)\n",
    "    df.to_csv(f'./aggregated/experiment_3/{str(i)}/all.csv')"
   ],
   "metadata": {
    "collapsed": false,
    "pycharm": {
     "name": "#%%\n"
    }
   }
  },
  {
   "cell_type": "code",
   "execution_count": 170,
   "outputs": [],
   "source": [
    "for i in range(1, 11):\n",
    "    df = pd.read_csv(f'./aggregated/experiment_3/{str(i)}/all.csv')\n",
    "\n",
    "    leader = df[df['state'] == 'leader']\n",
    "    follower = df[df['state'] == 'follower']\n",
    "\n",
    "    # group the data by id\n",
    "    leader = leader.groupby('id').agg({'rate': 'min', 'generation_time': 'min', 'ingestion_time': 'mean', 'commit_time': 'max'})\n",
    "    follower = follower.groupby('id').agg({'rate': 'min', 'generation_time': 'min', 'ingestion_time': 'mean', 'commit_time': 'max'})\n",
    "\n",
    "    # add a column for the processing time latency\n",
    "    leader['processing_time_latency'] = leader['commit_time'] - leader['ingestion_time']\n",
    "    follower['processing_time_latency'] = follower['commit_time'] - follower['ingestion_time']\n",
    "\n",
    "    leader['state'] = 'leader'\n",
    "    follower['state'] = 'follower'\n",
    "\n",
    "    df = pd.concat([leader, follower])\n",
    "\n",
    "    df.to_csv(f'./aggregated/experiment_3/{str(i)}/all.csv')\n"
   ],
   "metadata": {
    "collapsed": false,
    "pycharm": {
     "name": "#%%\n"
    }
   }
  },
  {
   "cell_type": "code",
   "execution_count": 171,
   "outputs": [],
   "source": [
    "# load the results from the 10 runs into a single dataframe\n",
    "df = pd.concat([pd.read_csv(f'./aggregated/experiment_3/{str(i)}/all.csv') for i in range(1, 11)])\n",
    "\n",
    "df.to_csv('./experiment_3.csv')"
   ],
   "metadata": {
    "collapsed": false,
    "pycharm": {
     "name": "#%%\n"
    }
   }
  },
  {
   "cell_type": "code",
   "execution_count": 172,
   "outputs": [],
   "source": [
    "df = pd.read_csv('./experiment_3.csv', index_col=0)"
   ],
   "metadata": {
    "collapsed": false,
    "pycharm": {
     "name": "#%%\n"
    }
   }
  },
  {
   "cell_type": "code",
   "execution_count": 173,
   "outputs": [
    {
     "name": "stderr",
     "output_type": "stream",
     "text": [
      "/usr/local/anaconda3/lib/python3.8/site-packages/seaborn/distributions.py:2557: FutureWarning: `distplot` is a deprecated function and will be removed in a future version. Please adapt your code to use either `displot` (a figure-level function with similar flexibility) or `histplot` (an axes-level function for histograms).\n",
      "  warnings.warn(msg, FutureWarning)\n",
      "/usr/local/anaconda3/lib/python3.8/site-packages/seaborn/distributions.py:2557: FutureWarning: `distplot` is a deprecated function and will be removed in a future version. Please adapt your code to use either `displot` (a figure-level function with similar flexibility) or `histplot` (an axes-level function for histograms).\n",
      "  warnings.warn(msg, FutureWarning)\n"
     ]
    },
    {
     "data": {
      "text/plain": "<Figure size 432x288 with 1 Axes>",
      "image/png": "[encoded data removed]"
     },
     "metadata": {
      "needs_background": "light"
     },
     "output_type": "display_data"
    }
   ],
   "source": [
    "import seaborn as sns\n",
    "import numpy as np\n",
    "\n",
    "# create 100 bins between the minimum processing time latency and the maximum processing time latency\n",
    "bins = np.linspace(df['processing_time_latency'].min(), df['processing_time_latency'].max(), 1000)\n",
    "\n",
    "# make a distribution plot of the processing time latency\n",
    "leader = df[df['state'] == 'leader']\n",
    "follower = df[df['state'] == 'follower']\n",
    "sns.distplot(leader['processing_time_latency'], label='leader', bins=bins)\n",
    "sns.distplot(follower['processing_time_latency'], label='follower', bins=bins)\n",
    "plt.legend()\n",
    "plt.xlabel('processing time latency')\n",
    "plt.ylabel('Density')\n",
    "plt.title('25 ms interval')\n",
    "\n",
    "plt.xticks(np.arange(0, 0.22, 0.02))\n",
    "plt.savefig('./images/experiment_3.pdf')\n",
    "# plt.show()"
   ],
   "metadata": {
    "collapsed": false,
    "pycharm": {
     "name": "#%%\n"
    }
   }
  },
  {
   "cell_type": "code",
   "execution_count": 174,
   "outputs": [
    {
     "name": "stdout",
     "output_type": "stream",
     "text": [
      "0.0008141839464899:.2f\n"
     ]
    }
   ],
   "source": [
    "df = pd.read_csv('./experiment_3.csv', index_col=0)\n",
    "leader = df[df['state'] == 'leader']\n",
    "# print the mean difference between the generation time and ingestion time\n",
    "transmition_time = leader['ingestion_time'] - leader['generation_time']\n",
    "print(f\"{transmition_time.mean()}:.2f\")"
   ],
   "metadata": {
    "collapsed": false,
    "pycharm": {
     "name": "#%%\n"
    }
   }
  },
  {
   "cell_type": "code",
   "execution_count": 174,
   "outputs": [],
   "source": [],
   "metadata": {
    "collapsed": false,
    "pycharm": {
     "name": "#%%\n"
    }
   }
  }
 ],
 "metadata": {
  "kernelspec": {
   "display_name": "Python 3",
   "language": "python",
   "name": "python3"
  },
  "language_info": {
   "codemirror_mode": {
    "name": "ipython",
    "version": 2
   },
   "file_extension": ".py",
   "mimetype": "text/x-python",
   "name": "python",
   "nbconvert_exporter": "python",
   "pygments_lexer": "ipython2",
   "version": "2.7.6"
  }
 },
 "nbformat": 4,
 "nbformat_minor": 0
}